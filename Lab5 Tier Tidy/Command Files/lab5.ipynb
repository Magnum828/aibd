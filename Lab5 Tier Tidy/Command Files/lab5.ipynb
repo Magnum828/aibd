{
 "cells": [
  {
   "cell_type": "markdown",
   "metadata": {},
   "source": [
    "Lab 5 - TIER Protocol i Tidy data\n",
    "\n",
    "Michał Hesek 406399"
   ]
  }
 ],
 "metadata": {
  "language_info": {
   "name": "python"
  },
  "orig_nbformat": 4
 },
 "nbformat": 4,
 "nbformat_minor": 2
}
